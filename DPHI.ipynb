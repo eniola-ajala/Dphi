{
 "cells": [
  {
   "cell_type": "code",
   "execution_count": 1,
   "id": "37889950",
   "metadata": {},
   "outputs": [
    {
     "name": "stdout",
     "output_type": "stream",
     "text": [
      "Learning python with DPHI\n"
     ]
    }
   ],
   "source": [
    "print(\"Learning python with DPHI\")"
   ]
  },
  {
   "cell_type": "code",
   "execution_count": 2,
   "id": "22af1bec",
   "metadata": {},
   "outputs": [],
   "source": [
    "a = 5\n",
    "b = 16\n",
    "sum = a + b"
   ]
  },
  {
   "cell_type": "code",
   "execution_count": 3,
   "id": "471dc204",
   "metadata": {},
   "outputs": [
    {
     "name": "stdout",
     "output_type": "stream",
     "text": [
      "21\n"
     ]
    }
   ],
   "source": [
    "print(sum)"
   ]
  },
  {
   "cell_type": "code",
   "execution_count": null,
   "id": "a9c3d4b1",
   "metadata": {},
   "outputs": [],
   "source": [
    "user = int(input(\"Write a number\"))\n",
    "print(user*user*user)"
   ]
  },
  {
   "cell_type": "code",
   "execution_count": null,
   "id": "4c3eaa4b",
   "metadata": {},
   "outputs": [],
   "source": [
    "import pandas as pd"
   ]
  },
  {
   "cell_type": "markdown",
   "id": "8249828f",
   "metadata": {},
   "source": [
    "# Series is a one-dimensional labeled array\n"
   ]
  },
  {
   "cell_type": "code",
   "execution_count": null,
   "id": "d642e514",
   "metadata": {},
   "outputs": [],
   "source": [
    "num = [1,2,3,4,5,6,]\n",
    "pd.Series(num)"
   ]
  },
  {
   "cell_type": "markdown",
   "id": "bac0fbe9",
   "metadata": {},
   "source": [
    "# Series using dictionary"
   ]
  },
  {
   "cell_type": "code",
   "execution_count": null,
   "id": "44b5c982",
   "metadata": {},
   "outputs": [],
   "source": [
    "dict = {1: \"Eniola\", 2: \"Timileyin\", 3: \"Damilola\", 4: \"Ruth\", 5: \"Favour\"}\n",
    "pd.Series(dict)"
   ]
  },
  {
   "cell_type": "markdown",
   "id": "ac8ee4fb",
   "metadata": {},
   "source": [
    "# DataFrame - Two dimensional table, made up of collection of series"
   ]
  },
  {
   "cell_type": "code",
   "execution_count": null,
   "id": "166dde12",
   "metadata": {},
   "outputs": [],
   "source": [
    "data = [\n",
    "    [\"Eniola\", \"OAU\", \"400L\"], [\"Timileyin\", \"OAUSTEC\", \"400L\"],[\"Damilola\", \"EKSU\", \"400L\"], [\"Favour\", \"NAO\", \"400L\"]\n",
    "]\n",
    "\n",
    "pd.DataFrame(data)"
   ]
  },
  {
   "cell_type": "code",
   "execution_count": null,
   "id": "c83e53bb",
   "metadata": {},
   "outputs": [],
   "source": [
    "pd.DataFrame(data, columns=[\"Name\", \"School\", \"Level\"], index = [1,2,3,4])"
   ]
  },
  {
   "cell_type": "code",
   "execution_count": null,
   "id": "c47e307c",
   "metadata": {},
   "outputs": [],
   "source": [
    "# Using dictionaries for DataFrame\n",
    "\n",
    "dataa = {\n",
    "    \"Company\":[\"Toyota\", \"Camry\", \"BMW\", \"Ferrari\"],\n",
    "    \"Model\":[2019,2020,2005,2009],\n",
    "    \"Class\":[\"New\", \"New\", \"Old\", \"New\"]\n",
    "}\n",
    "\n",
    "pd.DataFrame(dataa)"
   ]
  },
  {
   "cell_type": "code",
   "execution_count": null,
   "id": "20ab41b0",
   "metadata": {},
   "outputs": [],
   "source": []
  },
  {
   "cell_type": "code",
   "execution_count": null,
   "id": "4a60fc90",
   "metadata": {},
   "outputs": [],
   "source": [
    "#CSV - Comma Separated Values\n",
    "import pandas as pd\n",
    "\n",
    "credits = pd.read_csv(\"credits.csv\")\n",
    "titles = pd.read_csv(\"titles.csv\")\n",
    "\n"
   ]
  },
  {
   "cell_type": "code",
   "execution_count": null,
   "id": "aa3724ed",
   "metadata": {},
   "outputs": [],
   "source": [
    "# Indexing in Pandas\n",
    "# Means selecting particular rows and columns from a DataFrame\n",
    "#loc- label based selection\n",
    "#iloc - index based selection\n",
    "\n",
    "credits.head()\n",
    "\n"
   ]
  },
  {
   "cell_type": "code",
   "execution_count": null,
   "id": "e0f7e28a",
   "metadata": {},
   "outputs": [],
   "source": [
    "credits.iloc[0:5,4]"
   ]
  },
  {
   "cell_type": "code",
   "execution_count": null,
   "id": "2bef8851",
   "metadata": {},
   "outputs": [],
   "source": [
    "credits[\"role\"]"
   ]
  },
  {
   "cell_type": "code",
   "execution_count": null,
   "id": "fd88306e",
   "metadata": {},
   "outputs": [],
   "source": [
    "#df[\"column_name\"]\n"
   ]
  },
  {
   "cell_type": "code",
   "execution_count": null,
   "id": "0eec47f8",
   "metadata": {},
   "outputs": [],
   "source": [
    "credits.role == \"ACTOR\""
   ]
  },
  {
   "cell_type": "code",
   "execution_count": null,
   "id": "68973757",
   "metadata": {},
   "outputs": [],
   "source": [
    "credits.info()"
   ]
  },
  {
   "cell_type": "code",
   "execution_count": null,
   "id": "76884668",
   "metadata": {},
   "outputs": [],
   "source": [
    "credits.describe()"
   ]
  },
  {
   "cell_type": "code",
   "execution_count": null,
   "id": "4c49f82c",
   "metadata": {},
   "outputs": [],
   "source": [
    "credits.describe(include = 'all')"
   ]
  },
  {
   "cell_type": "code",
   "execution_count": null,
   "id": "0b429b60",
   "metadata": {},
   "outputs": [],
   "source": [
    "\n",
    "credits.role.value_counts()"
   ]
  },
  {
   "cell_type": "markdown",
   "id": "cccc6cf3",
   "metadata": {},
   "source": [
    "\n",
    "# Matplotlib\n",
    "\n",
    "import matplotlib.pyplot as plt"
   ]
  },
  {
   "cell_type": "code",
   "execution_count": null,
   "id": "a5fc5704",
   "metadata": {},
   "outputs": [],
   "source": [
    "# Scatter plot aka scatter chart or graph uses dots to represent values to represent values for different numeric variables\n",
    "# Scatter plots are used to observe relationships between variables\n",
    "#Line plot is used to represent data over a continous period plt.plot()\n",
    "\n",
    "plt.plot([1,2,3,4,5])\n",
    "plt.show()"
   ]
  },
  {
   "cell_type": "code",
   "execution_count": null,
   "id": "338132c0",
   "metadata": {},
   "outputs": [],
   "source": [
    "# Horizontal bar chart; plt.barh()"
   ]
  },
  {
   "cell_type": "code",
   "execution_count": null,
   "id": "fe572e61",
   "metadata": {},
   "outputs": [],
   "source": []
  },
  {
   "cell_type": "code",
   "execution_count": null,
   "id": "10a2df34",
   "metadata": {},
   "outputs": [],
   "source": [
    "#looping through list; for loop\n",
    "heights = [1.73,2.05,1.117,3.0,2.34,6.78]\n",
    "for i in heights:\n",
    "    print(i)"
   ]
  },
  {
   "cell_type": "code",
   "execution_count": null,
   "id": "808a5bcd",
   "metadata": {},
   "outputs": [],
   "source": [
    "for i in \"Eniola\":\n",
    "    print(i)"
   ]
  },
  {
   "cell_type": "code",
   "execution_count": null,
   "id": "61808cf1",
   "metadata": {},
   "outputs": [],
   "source": [
    "#while loop: With the while loop, we can execute a set of statements repeatedly as long as a condition is true\n",
    "\n",
    "x = 2\n",
    "while x < 10:\n",
    "    print(x)\n",
    "    x = x+1\n"
   ]
  },
  {
   "cell_type": "code",
   "execution_count": null,
   "id": "1cde679f",
   "metadata": {},
   "outputs": [],
   "source": [
    "#Range\n",
    "for i in range(6):\n",
    "    print(i, end=\",\")"
   ]
  },
  {
   "cell_type": "code",
   "execution_count": null,
   "id": "5cac799c",
   "metadata": {},
   "outputs": [],
   "source": [
    "# print first 10 natural numbers\n",
    "for i in range (11):\n",
    "    print(i)"
   ]
  },
  {
   "cell_type": "code",
   "execution_count": null,
   "id": "67eef4f4",
   "metadata": {},
   "outputs": [],
   "source": [
    "sum = int(input(\"input a number\"))\n",
    "for i in range(1,13):\n",
    "    print(sum, \"+\", i, \"=\", sum+i)"
   ]
  },
  {
   "cell_type": "markdown",
   "id": "08ec8f06",
   "metadata": {},
   "source": [
    "# Accept a number n from a user and print its multiplication table\n"
   ]
  },
  {
   "cell_type": "code",
   "execution_count": null,
   "id": "691b9be8",
   "metadata": {},
   "outputs": [],
   "source": [
    "enter = int(input(\"Write a number\"))\n",
    "for i in range(1,13):\n",
    "    print(enter, \"x\", i, \"=\", enter*i)"
   ]
  },
  {
   "cell_type": "code",
   "execution_count": null,
   "id": "980e6f0f",
   "metadata": {},
   "outputs": [],
   "source": [
    "#if-else statement\n",
    "# to find even number\n",
    "\n",
    "z = 4\n",
    "if z%2==0:\n",
    "    print(\"z is an even number\")"
   ]
  },
  {
   "cell_type": "code",
   "execution_count": null,
   "id": "460fff8a",
   "metadata": {},
   "outputs": [],
   "source": [
    "# Input a number to see i9f it is even or odd\n",
    "\n",
    "user = int(input(\"write a number\"))\n",
    "if user % 2 == 0:\n",
    "    print(str(user) + \" \" + \"is an even number\")\n",
    "else:\n",
    "        print(str(user) + \" \" + \"is an odd number\")\n",
    "        "
   ]
  },
  {
   "cell_type": "code",
   "execution_count": null,
   "id": "94b613cf",
   "metadata": {},
   "outputs": [],
   "source": [
    "# if-elif-else statement\n",
    "g = 5\n",
    "if g % 2 == 0:\n",
    "    print(\"g is divisible by 2\")\n",
    "elif g % 3 == 0:\n",
    "    print(\"g is divisible by 3\")\n",
    "else:\n",
    "    print(\"g is neither divisible by 2 nor by 3\")\n",
    "    "
   ]
  },
  {
   "cell_type": "code",
   "execution_count": null,
   "id": "c428a769",
   "metadata": {},
   "outputs": [],
   "source": [
    "# Dictionary: it is an unordered collection of key-value pairs\n",
    "world = {\n",
    "    \"Nigeria\" : 30000,\n",
    "    \"Ghana\" : 25000,\n",
    "    \"Togo\" : 10000\n",
    "}\n",
    "for key, values in world.items():\n",
    "    print(key + \" \" + \"has a population of\"+ \" \" + str(values))"
   ]
  },
  {
   "cell_type": "code",
   "execution_count": null,
   "id": "851e4132",
   "metadata": {},
   "outputs": [],
   "source": [
    "# Finding if a number is a perfect square\n",
    "import math\n",
    "user_length = int(input(\"input length measurement\"))\n",
    "user_breadth = int(input(\"input breadth measurement\"))\n",
    "product = user_length * user_breadth\n",
    "root = math.sqrt(product)\n",
    "if int(root + 0.5)**2 == product:\n",
    "    print(\"The product of the length and breadth is a perfect square\")\n",
    "else:\n",
    "    print(\"The product of the length and breadth is not a perfect square\")"
   ]
  },
  {
   "cell_type": "code",
   "execution_count": null,
   "id": "4dd8144c",
   "metadata": {},
   "outputs": [],
   "source": [
    "# Take 2 int values from user and print the greatest among them\n",
    "num1 = int(input(\"Input a number \"))\n",
    "num2 = int(input(\"Input another number \"))\n",
    "max_num = max(num1,num2)\n",
    "print( \"The largest number is \" + str(max_num))"
   ]
  },
  {
   "cell_type": "raw",
   "id": "5720fb49",
   "metadata": {},
   "source": []
  },
  {
   "cell_type": "code",
   "execution_count": null,
   "id": "eb55309a",
   "metadata": {},
   "outputs": [],
   "source": [
    "#Write a program to read the age of a candidate and determine whether it is eligible for casting his/her own vote\n",
    "user = int(input(\"Enter your valid age \"))\n",
    "if user >= 18:\n",
    "    print(\"You are eligible to vote, congratulations\")\n",
    "else:\n",
    "    print(\"You are not eligible to vote, you can only vote when you are 18. Please try again later.\")"
   ]
  },
  {
   "cell_type": "code",
   "execution_count": null,
   "id": "af6d4abd",
   "metadata": {},
   "outputs": [],
   "source": [
    "# Write a program to add a key to a dictionary\n",
    "sample_dict = { 0:10, 1:20 }\n",
    "sample_dict[2] = 30\n",
    "sample_dict"
   ]
  },
  {
   "cell_type": "code",
   "execution_count": null,
   "id": "48a70cd7",
   "metadata": {},
   "outputs": [],
   "source": [
    "sample = {\n",
    "    \"class\":{\"student\"},\n",
    "    \"name\":{\"mike\"},\n",
    "    \"marks\":{\"physics\": 70, \"history\": 80}\n",
    "}\n",
    "sample\n",
    "print(sample[\"marks\"])"
   ]
  },
  {
   "cell_type": "code",
   "execution_count": null,
   "id": "2927a735",
   "metadata": {},
   "outputs": [],
   "source": [
    "# Data visualization\n",
    "\n",
    "#import seaborn as sns"
   ]
  },
  {
   "cell_type": "code",
   "execution_count": null,
   "id": "0e156674",
   "metadata": {},
   "outputs": [],
   "source": []
  },
  {
   "cell_type": "code",
   "execution_count": null,
   "id": "f1228711",
   "metadata": {},
   "outputs": [],
   "source": []
  }
 ],
 "metadata": {
  "kernelspec": {
   "display_name": "Python 3",
   "language": "python",
   "name": "python3"
  },
  "language_info": {
   "codemirror_mode": {
    "name": "ipython",
    "version": 3
   },
   "file_extension": ".py",
   "mimetype": "text/x-python",
   "name": "python",
   "nbconvert_exporter": "python",
   "pygments_lexer": "ipython3",
   "version": "3.8.8"
  }
 },
 "nbformat": 4,
 "nbformat_minor": 5
}
