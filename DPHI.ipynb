{
 "cells": [
  {
   "cell_type": "code",
   "execution_count": 1,
   "id": "37889950",
   "metadata": {},
   "outputs": [
    {
     "name": "stdout",
     "output_type": "stream",
     "text": [
      "Mi Corazon\n"
     ]
    }
   ],
   "source": [
    "print(\"Mi Corazon\")"
   ]
  },
  {
   "cell_type": "code",
   "execution_count": 2,
   "id": "22af1bec",
   "metadata": {},
   "outputs": [],
   "source": [
    "a = 5\n",
    "b = 16\n",
    "sum = a + b"
   ]
  },
  {
   "cell_type": "code",
   "execution_count": 3,
   "id": "471dc204",
   "metadata": {},
   "outputs": [
    {
     "name": "stdout",
     "output_type": "stream",
     "text": [
      "21\n"
     ]
    }
   ],
   "source": [
    "print(sum)"
   ]
  },
  {
   "cell_type": "code",
   "execution_count": 12,
   "id": "a9c3d4b1",
   "metadata": {},
   "outputs": [
    {
     "name": "stdout",
     "output_type": "stream",
     "text": [
      "Write a number5\n",
      "125\n"
     ]
    }
   ],
   "source": [
    "user = int(input(\"Write a number\"))\n",
    "print(user*user*user)"
   ]
  },
  {
   "cell_type": "code",
   "execution_count": null,
   "id": "4c3eaa4b",
   "metadata": {},
   "outputs": [],
   "source": []
  },
  {
   "cell_type": "code",
   "execution_count": null,
   "id": "cc3b02c4",
   "metadata": {},
   "outputs": [],
   "source": []
  }
 ],
 "metadata": {
  "kernelspec": {
   "display_name": "Python 3",
   "language": "python",
   "name": "python3"
  },
  "language_info": {
   "codemirror_mode": {
    "name": "ipython",
    "version": 3
   },
   "file_extension": ".py",
   "mimetype": "text/x-python",
   "name": "python",
   "nbconvert_exporter": "python",
   "pygments_lexer": "ipython3",
   "version": "3.8.8"
  }
 },
 "nbformat": 4,
 "nbformat_minor": 5
}
