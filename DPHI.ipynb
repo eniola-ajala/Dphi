{
 "cells": [
  {
   "cell_type": "code",
   "execution_count": 1,
   "id": "37889950",
   "metadata": {},
   "outputs": [
    {
     "name": "stdout",
     "output_type": "stream",
     "text": [
      "Mi Corazon\n"
     ]
    }
   ],
   "source": [
    "print(\"Mi Corazon\")"
   ]
  },
  {
   "cell_type": "code",
   "execution_count": null,
   "id": "fa0d01d1",
   "metadata": {},
   "outputs": [],
   "source": []
  },
  {
   "cell_type": "code",
   "execution_count": 2,
   "id": "22af1bec",
   "metadata": {},
   "outputs": [],
   "source": [
    "a = 5\n",
    "b = 16\n",
    "sum = a + b"
   ]
  },
  {
   "cell_type": "code",
   "execution_count": 3,
   "id": "471dc204",
   "metadata": {},
   "outputs": [
    {
     "name": "stdout",
     "output_type": "stream",
     "text": [
      "21\n"
     ]
    }
   ],
   "source": [
    "print(sum)"
   ]
  },
  {
   "cell_type": "code",
   "execution_count": 12,
   "id": "a9c3d4b1",
   "metadata": {},
   "outputs": [
    {
     "name": "stdout",
     "output_type": "stream",
     "text": [
      "Write a number5\n",
      "125\n"
     ]
    }
   ],
   "source": [
    "user = int(input(\"Write a number\"))\n",
    "print(user*user*user)"
   ]
  },
  {
   "cell_type": "code",
   "execution_count": 1,
   "id": "4c3eaa4b",
   "metadata": {},
   "outputs": [],
   "source": [
    "import pandas as pd"
   ]
  },
  {
   "cell_type": "code",
   "execution_count": null,
   "id": "cc3b02c4",
   "metadata": {},
   "outputs": [],
   "source": [
    "# Series is a one-dimensional labeled array\n"
   ]
  },
  {
   "cell_type": "code",
   "execution_count": 2,
   "id": "d642e514",
   "metadata": {},
   "outputs": [
    {
     "data": {
      "text/plain": [
       "0    1\n",
       "1    2\n",
       "2    3\n",
       "3    4\n",
       "4    5\n",
       "5    6\n",
       "dtype: int64"
      ]
     },
     "execution_count": 2,
     "metadata": {},
     "output_type": "execute_result"
    }
   ],
   "source": [
    "num = [1,2,3,4,5,6,]\n",
    "pd.Series(num)"
   ]
  },
  {
   "cell_type": "code",
   "execution_count": null,
   "id": "6aa775b2",
   "metadata": {},
   "outputs": [],
   "source": [
    "# Series using dictionary"
   ]
  },
  {
   "cell_type": "code",
   "execution_count": 3,
   "id": "44b5c982",
   "metadata": {},
   "outputs": [
    {
     "data": {
      "text/plain": [
       "1       Eniola\n",
       "2    Timileyin\n",
       "3     Damilola\n",
       "4         Ruth\n",
       "5       Favour\n",
       "dtype: object"
      ]
     },
     "execution_count": 3,
     "metadata": {},
     "output_type": "execute_result"
    }
   ],
   "source": [
    "dict = {1: \"Eniola\", 2: \"Timileyin\", 3: \"Damilola\", 4: \"Ruth\", 5: \"Favour\"}\n",
    "pd.Series(dict)"
   ]
  },
  {
   "cell_type": "code",
   "execution_count": null,
   "id": "33d32656",
   "metadata": {},
   "outputs": [],
   "source": [
    "# DataFrame - Two dimensional table, made up of collection of series"
   ]
  },
  {
   "cell_type": "code",
   "execution_count": 4,
   "id": "166dde12",
   "metadata": {},
   "outputs": [
    {
     "data": {
      "text/html": [
       "<div>\n",
       "<style scoped>\n",
       "    .dataframe tbody tr th:only-of-type {\n",
       "        vertical-align: middle;\n",
       "    }\n",
       "\n",
       "    .dataframe tbody tr th {\n",
       "        vertical-align: top;\n",
       "    }\n",
       "\n",
       "    .dataframe thead th {\n",
       "        text-align: right;\n",
       "    }\n",
       "</style>\n",
       "<table border=\"1\" class=\"dataframe\">\n",
       "  <thead>\n",
       "    <tr style=\"text-align: right;\">\n",
       "      <th></th>\n",
       "      <th>0</th>\n",
       "      <th>1</th>\n",
       "      <th>2</th>\n",
       "    </tr>\n",
       "  </thead>\n",
       "  <tbody>\n",
       "    <tr>\n",
       "      <th>0</th>\n",
       "      <td>Eniola</td>\n",
       "      <td>OAU</td>\n",
       "      <td>400L</td>\n",
       "    </tr>\n",
       "    <tr>\n",
       "      <th>1</th>\n",
       "      <td>Timileyin</td>\n",
       "      <td>OAUSTEC</td>\n",
       "      <td>400L</td>\n",
       "    </tr>\n",
       "    <tr>\n",
       "      <th>2</th>\n",
       "      <td>Damilola</td>\n",
       "      <td>EKSU</td>\n",
       "      <td>400L</td>\n",
       "    </tr>\n",
       "    <tr>\n",
       "      <th>3</th>\n",
       "      <td>Favour</td>\n",
       "      <td>NAO</td>\n",
       "      <td>400L</td>\n",
       "    </tr>\n",
       "  </tbody>\n",
       "</table>\n",
       "</div>"
      ],
      "text/plain": [
       "           0        1     2\n",
       "0     Eniola      OAU  400L\n",
       "1  Timileyin  OAUSTEC  400L\n",
       "2   Damilola     EKSU  400L\n",
       "3     Favour      NAO  400L"
      ]
     },
     "execution_count": 4,
     "metadata": {},
     "output_type": "execute_result"
    }
   ],
   "source": [
    "data = [\n",
    "    [\"Eniola\", \"OAU\", \"400L\"], [\"Timileyin\", \"OAUSTEC\", \"400L\"],[\"Damilola\", \"EKSU\", \"400L\"], [\"Favour\", \"NAO\", \"400L\"]\n",
    "]\n",
    "\n",
    "pd.DataFrame(data)"
   ]
  },
  {
   "cell_type": "code",
   "execution_count": 5,
   "id": "c83e53bb",
   "metadata": {},
   "outputs": [
    {
     "data": {
      "text/html": [
       "<div>\n",
       "<style scoped>\n",
       "    .dataframe tbody tr th:only-of-type {\n",
       "        vertical-align: middle;\n",
       "    }\n",
       "\n",
       "    .dataframe tbody tr th {\n",
       "        vertical-align: top;\n",
       "    }\n",
       "\n",
       "    .dataframe thead th {\n",
       "        text-align: right;\n",
       "    }\n",
       "</style>\n",
       "<table border=\"1\" class=\"dataframe\">\n",
       "  <thead>\n",
       "    <tr style=\"text-align: right;\">\n",
       "      <th></th>\n",
       "      <th>Name</th>\n",
       "      <th>School</th>\n",
       "      <th>Level</th>\n",
       "    </tr>\n",
       "  </thead>\n",
       "  <tbody>\n",
       "    <tr>\n",
       "      <th>1</th>\n",
       "      <td>Eniola</td>\n",
       "      <td>OAU</td>\n",
       "      <td>400L</td>\n",
       "    </tr>\n",
       "    <tr>\n",
       "      <th>2</th>\n",
       "      <td>Timileyin</td>\n",
       "      <td>OAUSTEC</td>\n",
       "      <td>400L</td>\n",
       "    </tr>\n",
       "    <tr>\n",
       "      <th>3</th>\n",
       "      <td>Damilola</td>\n",
       "      <td>EKSU</td>\n",
       "      <td>400L</td>\n",
       "    </tr>\n",
       "    <tr>\n",
       "      <th>4</th>\n",
       "      <td>Favour</td>\n",
       "      <td>NAO</td>\n",
       "      <td>400L</td>\n",
       "    </tr>\n",
       "  </tbody>\n",
       "</table>\n",
       "</div>"
      ],
      "text/plain": [
       "        Name   School Level\n",
       "1     Eniola      OAU  400L\n",
       "2  Timileyin  OAUSTEC  400L\n",
       "3   Damilola     EKSU  400L\n",
       "4     Favour      NAO  400L"
      ]
     },
     "execution_count": 5,
     "metadata": {},
     "output_type": "execute_result"
    }
   ],
   "source": [
    "pd.DataFrame(data, columns=[\"Name\", \"School\", \"Level\"], index = [1,2,3,4])"
   ]
  },
  {
   "cell_type": "code",
   "execution_count": 10,
   "id": "c47e307c",
   "metadata": {},
   "outputs": [
    {
     "data": {
      "text/html": [
       "<div>\n",
       "<style scoped>\n",
       "    .dataframe tbody tr th:only-of-type {\n",
       "        vertical-align: middle;\n",
       "    }\n",
       "\n",
       "    .dataframe tbody tr th {\n",
       "        vertical-align: top;\n",
       "    }\n",
       "\n",
       "    .dataframe thead th {\n",
       "        text-align: right;\n",
       "    }\n",
       "</style>\n",
       "<table border=\"1\" class=\"dataframe\">\n",
       "  <thead>\n",
       "    <tr style=\"text-align: right;\">\n",
       "      <th></th>\n",
       "      <th>Company</th>\n",
       "      <th>Model</th>\n",
       "      <th>Class</th>\n",
       "    </tr>\n",
       "  </thead>\n",
       "  <tbody>\n",
       "    <tr>\n",
       "      <th>0</th>\n",
       "      <td>Toyota</td>\n",
       "      <td>2019</td>\n",
       "      <td>New</td>\n",
       "    </tr>\n",
       "    <tr>\n",
       "      <th>1</th>\n",
       "      <td>Camry</td>\n",
       "      <td>2020</td>\n",
       "      <td>New</td>\n",
       "    </tr>\n",
       "    <tr>\n",
       "      <th>2</th>\n",
       "      <td>BMW</td>\n",
       "      <td>2005</td>\n",
       "      <td>Old</td>\n",
       "    </tr>\n",
       "    <tr>\n",
       "      <th>3</th>\n",
       "      <td>Ferrari</td>\n",
       "      <td>2009</td>\n",
       "      <td>New</td>\n",
       "    </tr>\n",
       "  </tbody>\n",
       "</table>\n",
       "</div>"
      ],
      "text/plain": [
       "   Company  Model Class\n",
       "0   Toyota   2019   New\n",
       "1    Camry   2020   New\n",
       "2      BMW   2005   Old\n",
       "3  Ferrari   2009   New"
      ]
     },
     "execution_count": 10,
     "metadata": {},
     "output_type": "execute_result"
    }
   ],
   "source": [
    "# Using dictionaries for DataFrame\n",
    "\n",
    "dataa = {\n",
    "    \"Company\":[\"Toyota\", \"Camry\", \"BMW\", \"Ferrari\"],\n",
    "    \"Model\":[2019,2020,2005,2009],\n",
    "    \"Class\":[\"New\", \"New\", \"Old\", \"New\"]\n",
    "}\n",
    "\n",
    "pd.DataFrame(dataa)"
   ]
  },
  {
   "cell_type": "code",
   "execution_count": null,
   "id": "20ab41b0",
   "metadata": {},
   "outputs": [],
   "source": []
  },
  {
   "cell_type": "code",
   "execution_count": 8,
   "id": "4a60fc90",
   "metadata": {},
   "outputs": [],
   "source": [
    "#CSV - Comma Separated Values\n",
    "import pandas as pd\n",
    "\n",
    "credits = pd.read_csv(\"credits.csv\")\n",
    "titles = pd.read_csv(\"titles.csv\")\n",
    "\n"
   ]
  },
  {
   "cell_type": "code",
   "execution_count": 9,
   "id": "aa3724ed",
   "metadata": {},
   "outputs": [
    {
     "data": {
      "text/html": [
       "<div>\n",
       "<style scoped>\n",
       "    .dataframe tbody tr th:only-of-type {\n",
       "        vertical-align: middle;\n",
       "    }\n",
       "\n",
       "    .dataframe tbody tr th {\n",
       "        vertical-align: top;\n",
       "    }\n",
       "\n",
       "    .dataframe thead th {\n",
       "        text-align: right;\n",
       "    }\n",
       "</style>\n",
       "<table border=\"1\" class=\"dataframe\">\n",
       "  <thead>\n",
       "    <tr style=\"text-align: right;\">\n",
       "      <th></th>\n",
       "      <th>person_id</th>\n",
       "      <th>id</th>\n",
       "      <th>name</th>\n",
       "      <th>character</th>\n",
       "      <th>role</th>\n",
       "    </tr>\n",
       "  </thead>\n",
       "  <tbody>\n",
       "    <tr>\n",
       "      <th>0</th>\n",
       "      <td>3748</td>\n",
       "      <td>tm84618</td>\n",
       "      <td>Robert De Niro</td>\n",
       "      <td>Travis Bickle</td>\n",
       "      <td>ACTOR</td>\n",
       "    </tr>\n",
       "    <tr>\n",
       "      <th>1</th>\n",
       "      <td>14658</td>\n",
       "      <td>tm84618</td>\n",
       "      <td>Jodie Foster</td>\n",
       "      <td>Iris Steensma</td>\n",
       "      <td>ACTOR</td>\n",
       "    </tr>\n",
       "    <tr>\n",
       "      <th>2</th>\n",
       "      <td>7064</td>\n",
       "      <td>tm84618</td>\n",
       "      <td>Albert Brooks</td>\n",
       "      <td>Tom</td>\n",
       "      <td>ACTOR</td>\n",
       "    </tr>\n",
       "    <tr>\n",
       "      <th>3</th>\n",
       "      <td>3739</td>\n",
       "      <td>tm84618</td>\n",
       "      <td>Harvey Keitel</td>\n",
       "      <td>Matthew 'Sport' Higgins</td>\n",
       "      <td>ACTOR</td>\n",
       "    </tr>\n",
       "    <tr>\n",
       "      <th>4</th>\n",
       "      <td>48933</td>\n",
       "      <td>tm84618</td>\n",
       "      <td>Cybill Shepherd</td>\n",
       "      <td>Betsy</td>\n",
       "      <td>ACTOR</td>\n",
       "    </tr>\n",
       "  </tbody>\n",
       "</table>\n",
       "</div>"
      ],
      "text/plain": [
       "   person_id       id             name                character   role\n",
       "0       3748  tm84618   Robert De Niro            Travis Bickle  ACTOR\n",
       "1      14658  tm84618     Jodie Foster            Iris Steensma  ACTOR\n",
       "2       7064  tm84618    Albert Brooks                      Tom  ACTOR\n",
       "3       3739  tm84618    Harvey Keitel  Matthew 'Sport' Higgins  ACTOR\n",
       "4      48933  tm84618  Cybill Shepherd                    Betsy  ACTOR"
      ]
     },
     "execution_count": 9,
     "metadata": {},
     "output_type": "execute_result"
    }
   ],
   "source": [
    "# Indexing in Pandas\n",
    "# Means selecting particular rows and columns from a DataFrame\n",
    "#loc- label based selection\n",
    "#iloc - index based selection\n",
    "\n",
    "credits.head()\n",
    "\n"
   ]
  },
  {
   "cell_type": "code",
   "execution_count": 10,
   "id": "e0f7e28a",
   "metadata": {},
   "outputs": [
    {
     "data": {
      "text/plain": [
       "0    ACTOR\n",
       "1    ACTOR\n",
       "2    ACTOR\n",
       "3    ACTOR\n",
       "4    ACTOR\n",
       "Name: role, dtype: object"
      ]
     },
     "execution_count": 10,
     "metadata": {},
     "output_type": "execute_result"
    }
   ],
   "source": [
    "credits.iloc[0:5,4]"
   ]
  },
  {
   "cell_type": "code",
   "execution_count": 14,
   "id": "2bef8851",
   "metadata": {},
   "outputs": [
    {
     "data": {
      "text/plain": [
       "0           ACTOR\n",
       "1           ACTOR\n",
       "2           ACTOR\n",
       "3           ACTOR\n",
       "4           ACTOR\n",
       "           ...   \n",
       "77208       ACTOR\n",
       "77209       ACTOR\n",
       "77210       ACTOR\n",
       "77211       ACTOR\n",
       "77212    DIRECTOR\n",
       "Name: role, Length: 77213, dtype: object"
      ]
     },
     "execution_count": 14,
     "metadata": {},
     "output_type": "execute_result"
    }
   ],
   "source": [
    "credits[\"role\"]"
   ]
  },
  {
   "cell_type": "code",
   "execution_count": 15,
   "id": "fd88306e",
   "metadata": {},
   "outputs": [],
   "source": [
    "#df[\"column_name\"]\n"
   ]
  },
  {
   "cell_type": "code",
   "execution_count": 16,
   "id": "0eec47f8",
   "metadata": {},
   "outputs": [
    {
     "data": {
      "text/plain": [
       "0         True\n",
       "1         True\n",
       "2         True\n",
       "3         True\n",
       "4         True\n",
       "         ...  \n",
       "77208     True\n",
       "77209     True\n",
       "77210     True\n",
       "77211     True\n",
       "77212    False\n",
       "Name: role, Length: 77213, dtype: bool"
      ]
     },
     "execution_count": 16,
     "metadata": {},
     "output_type": "execute_result"
    }
   ],
   "source": [
    "credits.role == \"ACTOR\""
   ]
  },
  {
   "cell_type": "code",
   "execution_count": 17,
   "id": "68973757",
   "metadata": {},
   "outputs": [
    {
     "name": "stdout",
     "output_type": "stream",
     "text": [
      "<class 'pandas.core.frame.DataFrame'>\n",
      "RangeIndex: 77213 entries, 0 to 77212\n",
      "Data columns (total 5 columns):\n",
      " #   Column     Non-Null Count  Dtype \n",
      "---  ------     --------------  ----- \n",
      " 0   person_id  77213 non-null  int64 \n",
      " 1   id         77213 non-null  object\n",
      " 2   name       77213 non-null  object\n",
      " 3   character  67586 non-null  object\n",
      " 4   role       77213 non-null  object\n",
      "dtypes: int64(1), object(4)\n",
      "memory usage: 2.9+ MB\n"
     ]
    }
   ],
   "source": [
    "credits.info()"
   ]
  },
  {
   "cell_type": "code",
   "execution_count": 18,
   "id": "76884668",
   "metadata": {},
   "outputs": [
    {
     "data": {
      "text/html": [
       "<div>\n",
       "<style scoped>\n",
       "    .dataframe tbody tr th:only-of-type {\n",
       "        vertical-align: middle;\n",
       "    }\n",
       "\n",
       "    .dataframe tbody tr th {\n",
       "        vertical-align: top;\n",
       "    }\n",
       "\n",
       "    .dataframe thead th {\n",
       "        text-align: right;\n",
       "    }\n",
       "</style>\n",
       "<table border=\"1\" class=\"dataframe\">\n",
       "  <thead>\n",
       "    <tr style=\"text-align: right;\">\n",
       "      <th></th>\n",
       "      <th>person_id</th>\n",
       "    </tr>\n",
       "  </thead>\n",
       "  <tbody>\n",
       "    <tr>\n",
       "      <th>count</th>\n",
       "      <td>7.721300e+04</td>\n",
       "    </tr>\n",
       "    <tr>\n",
       "      <th>mean</th>\n",
       "      <td>4.994603e+05</td>\n",
       "    </tr>\n",
       "    <tr>\n",
       "      <th>std</th>\n",
       "      <td>6.128431e+05</td>\n",
       "    </tr>\n",
       "    <tr>\n",
       "      <th>min</th>\n",
       "      <td>7.000000e+00</td>\n",
       "    </tr>\n",
       "    <tr>\n",
       "      <th>25%</th>\n",
       "      <td>4.158400e+04</td>\n",
       "    </tr>\n",
       "    <tr>\n",
       "      <th>50%</th>\n",
       "      <td>1.829850e+05</td>\n",
       "    </tr>\n",
       "    <tr>\n",
       "      <th>75%</th>\n",
       "      <td>8.415570e+05</td>\n",
       "    </tr>\n",
       "    <tr>\n",
       "      <th>max</th>\n",
       "      <td>2.371585e+06</td>\n",
       "    </tr>\n",
       "  </tbody>\n",
       "</table>\n",
       "</div>"
      ],
      "text/plain": [
       "          person_id\n",
       "count  7.721300e+04\n",
       "mean   4.994603e+05\n",
       "std    6.128431e+05\n",
       "min    7.000000e+00\n",
       "25%    4.158400e+04\n",
       "50%    1.829850e+05\n",
       "75%    8.415570e+05\n",
       "max    2.371585e+06"
      ]
     },
     "execution_count": 18,
     "metadata": {},
     "output_type": "execute_result"
    }
   ],
   "source": [
    "credits.describe()"
   ]
  },
  {
   "cell_type": "code",
   "execution_count": 19,
   "id": "4c49f82c",
   "metadata": {},
   "outputs": [
    {
     "data": {
      "text/html": [
       "<div>\n",
       "<style scoped>\n",
       "    .dataframe tbody tr th:only-of-type {\n",
       "        vertical-align: middle;\n",
       "    }\n",
       "\n",
       "    .dataframe tbody tr th {\n",
       "        vertical-align: top;\n",
       "    }\n",
       "\n",
       "    .dataframe thead th {\n",
       "        text-align: right;\n",
       "    }\n",
       "</style>\n",
       "<table border=\"1\" class=\"dataframe\">\n",
       "  <thead>\n",
       "    <tr style=\"text-align: right;\">\n",
       "      <th></th>\n",
       "      <th>person_id</th>\n",
       "      <th>id</th>\n",
       "      <th>name</th>\n",
       "      <th>character</th>\n",
       "      <th>role</th>\n",
       "    </tr>\n",
       "  </thead>\n",
       "  <tbody>\n",
       "    <tr>\n",
       "      <th>count</th>\n",
       "      <td>7.721300e+04</td>\n",
       "      <td>77213</td>\n",
       "      <td>77213</td>\n",
       "      <td>67586</td>\n",
       "      <td>77213</td>\n",
       "    </tr>\n",
       "    <tr>\n",
       "      <th>unique</th>\n",
       "      <td>NaN</td>\n",
       "      <td>5434</td>\n",
       "      <td>53687</td>\n",
       "      <td>47125</td>\n",
       "      <td>2</td>\n",
       "    </tr>\n",
       "    <tr>\n",
       "      <th>top</th>\n",
       "      <td>NaN</td>\n",
       "      <td>tm32982</td>\n",
       "      <td>Shah Rukh Khan</td>\n",
       "      <td>Self</td>\n",
       "      <td>ACTOR</td>\n",
       "    </tr>\n",
       "    <tr>\n",
       "      <th>freq</th>\n",
       "      <td>NaN</td>\n",
       "      <td>208</td>\n",
       "      <td>30</td>\n",
       "      <td>1667</td>\n",
       "      <td>72690</td>\n",
       "    </tr>\n",
       "    <tr>\n",
       "      <th>mean</th>\n",
       "      <td>4.994603e+05</td>\n",
       "      <td>NaN</td>\n",
       "      <td>NaN</td>\n",
       "      <td>NaN</td>\n",
       "      <td>NaN</td>\n",
       "    </tr>\n",
       "    <tr>\n",
       "      <th>std</th>\n",
       "      <td>6.128431e+05</td>\n",
       "      <td>NaN</td>\n",
       "      <td>NaN</td>\n",
       "      <td>NaN</td>\n",
       "      <td>NaN</td>\n",
       "    </tr>\n",
       "    <tr>\n",
       "      <th>min</th>\n",
       "      <td>7.000000e+00</td>\n",
       "      <td>NaN</td>\n",
       "      <td>NaN</td>\n",
       "      <td>NaN</td>\n",
       "      <td>NaN</td>\n",
       "    </tr>\n",
       "    <tr>\n",
       "      <th>25%</th>\n",
       "      <td>4.158400e+04</td>\n",
       "      <td>NaN</td>\n",
       "      <td>NaN</td>\n",
       "      <td>NaN</td>\n",
       "      <td>NaN</td>\n",
       "    </tr>\n",
       "    <tr>\n",
       "      <th>50%</th>\n",
       "      <td>1.829850e+05</td>\n",
       "      <td>NaN</td>\n",
       "      <td>NaN</td>\n",
       "      <td>NaN</td>\n",
       "      <td>NaN</td>\n",
       "    </tr>\n",
       "    <tr>\n",
       "      <th>75%</th>\n",
       "      <td>8.415570e+05</td>\n",
       "      <td>NaN</td>\n",
       "      <td>NaN</td>\n",
       "      <td>NaN</td>\n",
       "      <td>NaN</td>\n",
       "    </tr>\n",
       "    <tr>\n",
       "      <th>max</th>\n",
       "      <td>2.371585e+06</td>\n",
       "      <td>NaN</td>\n",
       "      <td>NaN</td>\n",
       "      <td>NaN</td>\n",
       "      <td>NaN</td>\n",
       "    </tr>\n",
       "  </tbody>\n",
       "</table>\n",
       "</div>"
      ],
      "text/plain": [
       "           person_id       id            name character   role\n",
       "count   7.721300e+04    77213           77213     67586  77213\n",
       "unique           NaN     5434           53687     47125      2\n",
       "top              NaN  tm32982  Shah Rukh Khan      Self  ACTOR\n",
       "freq             NaN      208              30      1667  72690\n",
       "mean    4.994603e+05      NaN             NaN       NaN    NaN\n",
       "std     6.128431e+05      NaN             NaN       NaN    NaN\n",
       "min     7.000000e+00      NaN             NaN       NaN    NaN\n",
       "25%     4.158400e+04      NaN             NaN       NaN    NaN\n",
       "50%     1.829850e+05      NaN             NaN       NaN    NaN\n",
       "75%     8.415570e+05      NaN             NaN       NaN    NaN\n",
       "max     2.371585e+06      NaN             NaN       NaN    NaN"
      ]
     },
     "execution_count": 19,
     "metadata": {},
     "output_type": "execute_result"
    }
   ],
   "source": [
    "credits.describe(include = 'all')"
   ]
  },
  {
   "cell_type": "code",
   "execution_count": 20,
   "id": "0b429b60",
   "metadata": {},
   "outputs": [
    {
     "data": {
      "text/plain": [
       "ACTOR       72690\n",
       "DIRECTOR     4523\n",
       "Name: role, dtype: int64"
      ]
     },
     "execution_count": 20,
     "metadata": {},
     "output_type": "execute_result"
    }
   ],
   "source": [
    "credits.role.value_counts()"
   ]
  },
  {
   "cell_type": "code",
   "execution_count": 1,
   "id": "8d54899e",
   "metadata": {},
   "outputs": [],
   "source": [
    "\n",
    "# Matplotlib\n",
    "\n",
    "import matplotlib.pyplot as plt"
   ]
  },
  {
   "cell_type": "code",
   "execution_count": 6,
   "id": "a5fc5704",
   "metadata": {},
   "outputs": [
    {
     "data": {
      "image/png": "[encoded data removed]",
      "text/plain": [
       "<Figure size 432x288 with 1 Axes>"
      ]
     },
     "metadata": {
      "needs_background": "light"
     },
     "output_type": "display_data"
    }
   ],
   "source": [
    "# Scatter plot aka scatter chart or graph uses dots to represent values to represent values for different numeric variables\n",
    "# Scatter plots are used to observe relationships between variables\n",
    "#Line plot is used to represent data over a continous period plt.plot()\n",
    "\n",
    "plt.plot([1,2,3,4,5])\n",
    "plt.show()"
   ]
  },
  {
   "cell_type": "code",
   "execution_count": 1,
   "id": "338132c0",
   "metadata": {},
   "outputs": [],
   "source": [
    "# Horizontal bar chart; plt.barh()"
   ]
  },
  {
   "cell_type": "code",
   "execution_count": null,
   "id": "fe572e61",
   "metadata": {},
   "outputs": [],
   "source": []
  },
  {
   "cell_type": "code",
   "execution_count": 2,
   "id": "10a2df34",
   "metadata": {},
   "outputs": [
    {
     "name": "stdout",
     "output_type": "stream",
     "text": [
      "1.73\n",
      "2.05\n",
      "1.117\n",
      "3.0\n",
      "2.34\n",
      "6.78\n"
     ]
    }
   ],
   "source": [
    "#looping through list; for loop\n",
    "heights = [1.73,2.05,1.117,3.0,2.34,6.78]\n",
    "for i in heights:\n",
    "    print(i)"
   ]
  },
  {
   "cell_type": "code",
   "execution_count": 3,
   "id": "808a5bcd",
   "metadata": {},
   "outputs": [
    {
     "name": "stdout",
     "output_type": "stream",
     "text": [
      "E\n",
      "n\n",
      "i\n",
      "o\n",
      "l\n",
      "a\n"
     ]
    }
   ],
   "source": [
    "for i in \"Eniola\":\n",
    "    print(i)"
   ]
  },
  {
   "cell_type": "code",
   "execution_count": 1,
   "id": "61808cf1",
   "metadata": {},
   "outputs": [
    {
     "name": "stdout",
     "output_type": "stream",
     "text": [
      "2\n",
      "3\n",
      "4\n",
      "5\n",
      "6\n",
      "7\n",
      "8\n",
      "9\n"
     ]
    }
   ],
   "source": [
    "#while loop: With the while loop, we can execute a set of statements repeatedly as long as a condition is true\n",
    "\n",
    "x = 2\n",
    "while x < 10:\n",
    "    print(x)\n",
    "    x = x+1\n"
   ]
  },
  {
   "cell_type": "code",
   "execution_count": 2,
   "id": "1cde679f",
   "metadata": {},
   "outputs": [
    {
     "name": "stdout",
     "output_type": "stream",
     "text": [
      "0,1,2,3,4,5,"
     ]
    }
   ],
   "source": [
    "#Range\n",
    "for i in range(6):\n",
    "    print(i, end=\",\")"
   ]
  },
  {
   "cell_type": "code",
   "execution_count": 6,
   "id": "5cac799c",
   "metadata": {},
   "outputs": [
    {
     "name": "stdout",
     "output_type": "stream",
     "text": [
      "0\n",
      "1\n",
      "2\n",
      "3\n",
      "4\n",
      "5\n",
      "6\n",
      "7\n",
      "8\n",
      "9\n",
      "10\n"
     ]
    }
   ],
   "source": [
    "# print first 10 natural numbers\n",
    "for i in range (11):\n",
    "    print(i)"
   ]
  },
  {
   "cell_type": "code",
   "execution_count": 10,
   "id": "230d8fb7",
   "metadata": {},
   "outputs": [
    {
     "name": "stdout",
     "output_type": "stream",
     "text": [
      "Write a number2\n",
      "2 x 1 = 2\n",
      "2 x 2 = 4\n",
      "2 x 3 = 6\n",
      "2 x 4 = 8\n",
      "2 x 5 = 10\n",
      "2 x 6 = 12\n",
      "2 x 7 = 14\n",
      "2 x 8 = 16\n",
      "2 x 9 = 18\n",
      "2 x 10 = 20\n",
      "2 x 11 = 22\n",
      "2 x 12 = 24\n"
     ]
    }
   ],
   "source": [
    "# Accept a number n from a user and print its multiplication table\n",
    "enter = int(input(\"Write a number\"))\n",
    "for i in range(1,13):\n",
    "    print(enter, \"x\", i, \"=\", enter*i)"
   ]
  },
  {
   "cell_type": "code",
   "execution_count": 12,
   "id": "67eef4f4",
   "metadata": {},
   "outputs": [
    {
     "name": "stdout",
     "output_type": "stream",
     "text": [
      "input a number2\n",
      "2 + 1 = 3\n",
      "2 + 2 = 4\n",
      "2 + 3 = 5\n",
      "2 + 4 = 6\n",
      "2 + 5 = 7\n",
      "2 + 6 = 8\n",
      "2 + 7 = 9\n",
      "2 + 8 = 10\n",
      "2 + 9 = 11\n",
      "2 + 10 = 12\n",
      "2 + 11 = 13\n",
      "2 + 12 = 14\n"
     ]
    }
   ],
   "source": [
    "sum = int(input(\"input a number\"))\n",
    "for i in range(1,13):\n",
    "    print(sum, \"+\", i, \"=\", sum+i)"
   ]
  },
  {
   "cell_type": "code",
   "execution_count": 1,
   "id": "980e6f0f",
   "metadata": {},
   "outputs": [
    {
     "name": "stdout",
     "output_type": "stream",
     "text": [
      "z is an even number\n"
     ]
    }
   ],
   "source": [
    "#if-else statement\n",
    "# to find even number\n",
    "\n",
    "z = 4\n",
    "if z%2==0:\n",
    "    print(\"z is an even number\")"
   ]
  },
  {
   "cell_type": "code",
   "execution_count": 6,
   "id": "92aa903d",
   "metadata": {},
   "outputs": [
    {
     "name": "stdout",
     "output_type": "stream",
     "text": [
      "write a number59\n",
      "59 is an odd number\n"
     ]
    }
   ],
   "source": [
    "# Input a number to see i9f it is even or odd\n",
    "\n",
    "user = int(input(\"write a number\"))\n",
    "if user % 2 == 0:\n",
    "    print(str(user) + \" \" + \"is an even number\")\n",
    "else:\n",
    "        print(str(user) + \" \" + \"is an odd number\")\n",
    "        "
   ]
  },
  {
   "cell_type": "code",
   "execution_count": 7,
   "id": "d0b556fe",
   "metadata": {},
   "outputs": [
    {
     "name": "stdout",
     "output_type": "stream",
     "text": [
      "g is neither divisible by 2 nor by 3\n"
     ]
    }
   ],
   "source": [
    "# if-elif-else statement\n",
    "g = 5\n",
    "if g % 2 == 0:\n",
    "    print(\"g is divisible by 2\")\n",
    "elif g % 3 == 0:\n",
    "    print(\"g is divisible by 3\")\n",
    "else:\n",
    "    print(\"g is neither divisible by 2 nor by 3\")\n",
    "    "
   ]
  },
  {
   "cell_type": "code",
   "execution_count": 11,
   "id": "35414831",
   "metadata": {},
   "outputs": [
    {
     "name": "stdout",
     "output_type": "stream",
     "text": [
      "Nigeria has a population of 30000\n",
      "Ghana has a population of 25000\n",
      "Togo has a population of 10000\n"
     ]
    }
   ],
   "source": [
    "# Dictionary: it is an unordered collection of key-value pairs\n",
    "world = {\n",
    "    \"Nigeria\" : 30000,\n",
    "    \"Ghana\" : 25000,\n",
    "    \"Togo\" : 10000\n",
    "}\n",
    "for key, values in world.items():\n",
    "    print(key + \" \" + \"has a population of\"+ \" \" + str(values))"
   ]
  },
  {
   "cell_type": "code",
   "execution_count": 21,
   "id": "df551f41",
   "metadata": {},
   "outputs": [
    {
     "name": "stdout",
     "output_type": "stream",
     "text": [
      "input length measurement7\n",
      "input breadth measurement10\n",
      "The product of the length and breadth is not a perfect square\n"
     ]
    }
   ],
   "source": [
    "# Finding if a number is a perfect square\n",
    "import math\n",
    "user_length = int(input(\"input length measurement\"))\n",
    "user_breadth = int(input(\"input breadth measurement\"))\n",
    "product = user_length * user_breadth\n",
    "root = math.sqrt(product)\n",
    "if int(root + 0.5)**2 == product:\n",
    "    print(\"The product of the length and breadth is a perfect square\")\n",
    "else:\n",
    "    print(\"The product of the length and breadth is not a perfect square\")"
   ]
  },
  {
   "cell_type": "code",
   "execution_count": null,
   "id": "b465acab",
   "metadata": {},
   "outputs": [],
   "source": []
  },
  {
   "cell_type": "code",
   "execution_count": 22,
   "id": "f4cfe30b",
   "metadata": {},
   "outputs": [
    {
     "name": "stdout",
     "output_type": "stream",
     "text": [
      "Input a number 8\n",
      "Input another number 7\n",
      "8\n"
     ]
    }
   ],
   "source": [
    "# Take 2 int values from user and print the greatest among them\n",
    "num1 = int(input(\"Input a number \"))\n",
    "num2 = int(input(\"Input another number \"))\n",
    "max_num = max(num1,num2)\n",
    "print(max_num)"
   ]
  },
  {
   "cell_type": "code",
   "execution_count": null,
   "id": "ec80a99a",
   "metadata": {},
   "outputs": [],
   "source": []
  }
 ],
 "metadata": {
  "kernelspec": {
   "display_name": "Python 3",
   "language": "python",
   "name": "python3"
  },
  "language_info": {
   "codemirror_mode": {
    "name": "ipython",
    "version": 3
   },
   "file_extension": ".py",
   "mimetype": "text/x-python",
   "name": "python",
   "nbconvert_exporter": "python",
   "pygments_lexer": "ipython3",
   "version": "3.8.8"
  }
 },
 "nbformat": 4,
 "nbformat_minor": 5
}
